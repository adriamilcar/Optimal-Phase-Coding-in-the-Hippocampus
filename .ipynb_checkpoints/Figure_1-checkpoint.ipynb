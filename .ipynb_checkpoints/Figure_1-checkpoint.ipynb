{
 "cells": [
  {
   "cell_type": "markdown",
   "id": "demanding-causing",
   "metadata": {},
   "source": [
    "# Figure 1"
   ]
  },
  {
   "cell_type": "markdown",
   "id": "forbidden-jenny",
   "metadata": {},
   "source": [
    "## Imports"
   ]
  },
  {
   "cell_type": "code",
   "execution_count": 2,
   "id": "unusual-revolution",
   "metadata": {},
   "outputs": [],
   "source": [
    "from brian2 import *\n",
    "prefs.codegen.target = 'numpy'\n",
    "import matplotlib.pyplot as plt\n",
    "import matplotlib.cm as cm\n",
    "from matplotlib.lines import Line2D\n",
    "import scipy.stats\n",
    "import itertools\n",
    "import seaborn as sns\n",
    "\n",
    "from encoder_class.phase_encoder import PhaseEncoder, run_simulation\n",
    "from encoder_class.theoretical_functions import phi_of_I_lin, phi_of_I\n",
    "from encoder_class.encoder_functions import model_sigma\n",
    "from encoder_class.plot_functions import plt_fig_1b, plt_fig_1c"
   ]
  },
  {
   "cell_type": "markdown",
   "id": "cellular-pencil",
   "metadata": {},
   "source": [
    "## Figure 1B"
   ]
  },
  {
   "cell_type": "markdown",
   "id": "twenty-supplement",
   "metadata": {},
   "source": [
    "### Network Setup"
   ]
  },
  {
   "cell_type": "code",
   "execution_count": 3,
   "id": "micro-browser",
   "metadata": {},
   "outputs": [],
   "source": [
    "M = 50\n",
    "N = 1\n",
    "\n",
    "model_params = {}\n",
    "model_params[\"tau_m\"] = 24*ms\n",
    "model_params[\"R_m\"] = 142e6*ohm\n",
    "model_params[\"v_thres\"] = 15*mV\n",
    "model_params[\"v_rest\"] = 0*mV\n",
    "model_params[\"v_reset\"] = 0*mV\n",
    "model_params[\"tau_ref\"] = 0*ms\n",
    "model_params[\"v_0\"] = 0*mV\n",
    "model_params[\"noise_frac\"] = 0.\n",
    "\n",
    "oscillation_params = {}\n",
    "oscillation_params[\"I_osc\"] = 40*pA\n",
    "oscillation_params[\"f\"] = 5*Hz\n",
    "\n",
    "input_params = {}\n",
    "input_params[\"automatic_range\"] = False\n",
    "input_params[\"corr_frac\"] = 0.05\n",
    "input_params[\"I_min\"] = 60*pA\n",
    "input_params[\"I_max\"] = 160*pA\n",
    "\n",
    "simulation_params = {}\n",
    "simulation_params[\"method\"] = \"euler\"\n",
    "simulation_params[\"num_oscillations\"] = 5\n",
    "simulation_params[\"monitor_spikes\"] = True\n",
    "simulation_params[\"monitor_voltage\"] = True\n",
    "simulation_params[\"dt\"] = 0.05*ms\n",
    "simulation_params[\"record_dt\"] = 0.5*ms"
   ]
  },
  {
   "cell_type": "markdown",
   "id": "veterinary-estimate",
   "metadata": {},
   "source": [
    "### Run Simulation"
   ]
  },
  {
   "cell_type": "code",
   "execution_count": 4,
   "id": "likely-allergy",
   "metadata": {},
   "outputs": [
    {
     "name": "stderr",
     "output_type": "stream",
     "text": [
      "WARNING    /Users/albertalbesagonzalez/SPECS/Neural Coding/neural-coding/encoder_class/theoretical_functions.py:55: RuntimeWarning: invalid value encountered in arccos\n",
      "  phi = np.nan_to_num(-np.arccos(m*I + b) - ph)\n",
      " [py.warnings]\n"
     ]
    },
    {
     "name": "stdout",
     "output_type": "stream",
     "text": [
      "Starting simulation at t=0. s for a duration of 1.2 s\n",
      "1.2 s (100%) simulated in 2s\n"
     ]
    },
    {
     "name": "stderr",
     "output_type": "stream",
     "text": [
      "WARNING    /Users/albertalbesagonzalez/SPECS/Neural Coding/neural-coding/encoder_class/encoder_functions.py:113: VisibleDeprecationWarning: Creating an ndarray from ragged nested sequences (which is a list-or-tuple of lists-or-tuples-or ndarrays with different lengths or shapes) is deprecated. If you meant to do this, you must specify 'dtype=object' when creating the ndarray\n",
      "  phi_matrix = np.array(phi_lists)\n",
      " [py.warnings]\n"
     ]
    }
   ],
   "source": [
    "encoder = PhaseEncoder(num_ensembles=M, ensemble_size=N, model_params=model_params, \n",
    "                       input_params=input_params, oscillation_params=oscillation_params,\n",
    "                       simulation_params=simulation_params, rnd_seed=0)\n",
    "\n",
    "phis = run_simulation(encoder, mode='experimental')\n",
    "\n",
    "spikes = encoder.monitors[\"SM\"]"
   ]
  },
  {
   "cell_type": "markdown",
   "id": "portuguese-scale",
   "metadata": {},
   "source": [
    "### Process Results"
   ]
  },
  {
   "cell_type": "code",
   "execution_count": 5,
   "id": "champion-double",
   "metadata": {},
   "outputs": [],
   "source": [
    "#store I range in phase locking\n",
    "I_min_lock = encoder.input_params[\"I_min_lock\"]\n",
    "I_max_lock = encoder.input_params[\"I_max_lock\"]\n",
    "locked_index = np.where((I_min_lock <= encoder.input_params[\"I_s\"]) & (encoder.input_params[\"I_s\"] <= I_max_lock))[0]\n",
    "Is_locked = encoder.input_params[\"I_s\"][locked_index]\n",
    "num_locked = len(locked_index)\n",
    "\n",
    "#store phi values corresponding to phase-locked first spikes\n",
    "phis = np.array([phi[:] for phi in phis[locked_index]])\n",
    "phi_0 = encoder.groups[\"encoder\"].phi_0\n",
    "t_0s = phi_0/(2*pi)*encoder.oscillation_params[\"T\"]\n",
    "first_spikes = t_0s[locked_index]\n",
    "first_spikes_locked = (phis/(2*pi) + [np.arange(1, len(phis[0]) + 1)]*num_locked)*encoder.oscillation_params[\"T\"]\n",
    "spike_trains = list(spikes.all_values()['t'].values())"
   ]
  },
  {
   "cell_type": "markdown",
   "id": "smoking-modeling",
   "metadata": {},
   "source": [
    "### Make Figure"
   ]
  },
  {
   "cell_type": "code",
   "execution_count": 6,
   "id": "going-baptist",
   "metadata": {},
   "outputs": [
    {
     "data": {
      "image/png": "[encoded data removed]",
      "text/plain": [
       "<Figure size 576x432 with 1 Axes>"
      ]
     },
     "metadata": {
      "needs_background": "light"
     },
     "output_type": "display_data"
    }
   ],
   "source": [
    "plt.figure(figsize=(8, 6))\n",
    "for i_s, spike_train, t_0 in zip(encoder.input_params[\"I_s\"], spike_trains, t_0s):\n",
    "    plt.scatter(spike_train + t_0, [i_s/1e-12]*len(spike_train), marker='.', s=15, color='black')\n",
    "    #plt.scatter(spike_train, [i_s/1e-12]*len(spike_train), marker='.', s=15, color='black')\n",
    "\n",
    "\n",
    "plt.scatter(first_spikes, Is_locked/1e-12, marker='.', s=15, color='orange')\n",
    "for i_s, first_train, in zip(Is_locked, first_spikes_locked):\n",
    "    plt.scatter(first_train, [i_s/1e-12]*len(first_train), marker='.', s=15, color='orange')\n",
    "    \n",
    "x_min = 0\n",
    "x_max = simulation_params[\"runtime\"]\n",
    "\n",
    "plt_fig_1b(input_params, I_min_lock, I_max_lock, x_min, x_max)\n",
    "\n",
    "plt.savefig('Figures/Figure_1b.svg', dpi=600)\n",
    "plt.savefig('Figures/Figure_1b.png', dpi=600)"
   ]
  },
  {
   "cell_type": "markdown",
   "id": "express-knock",
   "metadata": {},
   "source": [
    "## Figure 1C"
   ]
  },
  {
   "cell_type": "markdown",
   "id": "biblical-surgeon",
   "metadata": {},
   "source": [
    "### Network Setup"
   ]
  },
  {
   "cell_type": "code",
   "execution_count": 7,
   "id": "usual-blair",
   "metadata": {},
   "outputs": [
    {
     "name": "stdout",
     "output_type": "stream",
     "text": [
      "Starting simulation at t=0. s for a duration of 1.2 s\n",
      "1.2 s (100%) simulated in 2s\n"
     ]
    }
   ],
   "source": [
    "M = 75\n",
    "model_params[\"noise_frac\"] = 0.\n",
    "input_params[\"corr_frac\"] = 0.05\n",
    "input_params[\"automatic_range\"] = True\n",
    "oscillation_params[\"f\"] = 5*Hz\n",
    "\n",
    "encoder = PhaseEncoder(num_ensembles=M, ensemble_size=N, model_params=model_params, \n",
    "                       oscillation_params=oscillation_params, input_params=input_params,\n",
    "                       simulation_params=simulation_params, rnd_seed=0)\n",
    "\n",
    "'''\n",
    "input_params[\"I_min\"], input_params[\"I_max\"] = encoder.input_params[\"I_min_lock\"], encoder.input_params[\"I_max_lock\"]\n",
    "input_params[\"automatic_range\"] = False\n",
    "\n",
    "encoder = PhaseEncoder(num_ensembles=M, ensemble_size=N, model_params=model_params, \n",
    "                       oscillation_params=oscillation_params, input_params=input_params,\n",
    "                       simulation_params=simulation_params, rnd_seed=0)\n",
    "'''\n",
    "\n",
    "exp_phis = run_simulation(encoder, mode='experimental')"
   ]
  },
  {
   "cell_type": "markdown",
   "id": "dramatic-wrestling",
   "metadata": {},
   "source": [
    "### Make Figure"
   ]
  },
  {
   "cell_type": "code",
   "execution_count": 8,
   "id": "forty-billion",
   "metadata": {},
   "outputs": [
    {
     "data": {
      "image/png": "[encoded data removed]",
      "text/plain": [
       "<Figure size 576x432 with 1 Axes>"
      ]
     },
     "metadata": {
      "needs_background": "light"
     },
     "output_type": "display_data"
    }
   ],
   "source": [
    "plt.figure(figsize=(8, 6))\n",
    "I_s = encoder.input_params[\"I_s\"]\n",
    "phis = exp_phis[:, 0]\n",
    "\n",
    "#get theoretical values for Equation 17\n",
    "transfer_function_phis = list(map(lambda i_s : phi_of_I(encoder, i_s), I_s))\n",
    "plt.plot(I_s, transfer_function_phis, c='black', linewidth=3, zorder=2, label='Th.')\n",
    "plt.scatter(I_s, phis, s=10, c='orange', zorder=3, label='Sim.', alpha=0.7)\n",
    "plt_fig_1c(input_params)\n",
    "\n",
    "plt.savefig('Figures/Figure_1c.svg', dpi=600)\n",
    "plt.savefig('Figures/Figure_1c.png', dpi=600)"
   ]
  },
  {
   "cell_type": "code",
   "execution_count": null,
   "id": "painful-collection",
   "metadata": {},
   "outputs": [],
   "source": []
  },
  {
   "cell_type": "code",
   "execution_count": null,
   "id": "random-faith",
   "metadata": {},
   "outputs": [],
   "source": []
  }
 ],
 "metadata": {
  "kernelspec": {
   "display_name": "Python 3",
   "language": "python",
   "name": "python3"
  },
  "language_info": {
   "codemirror_mode": {
    "name": "ipython",
    "version": 3
   },
   "file_extension": ".py",
   "mimetype": "text/x-python",
   "name": "python",
   "nbconvert_exporter": "python",
   "pygments_lexer": "ipython3",
   "version": "3.8.5"
  }
 },
 "nbformat": 4,
 "nbformat_minor": 5
}
